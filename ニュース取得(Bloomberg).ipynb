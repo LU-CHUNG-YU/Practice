{
 "cells": [
  {
   "cell_type": "code",
   "execution_count": null,
   "metadata": {},
   "outputs": [],
   "source": [
    "from bs4 import BeautifulSoup\n",
    "import requests\n",
    "import pandas as pd\n",
    "import numpy as np"
   ]
  },
  {
   "cell_type": "code",
   "execution_count": null,
   "metadata": {},
   "outputs": [],
   "source": [
    "URL_bloomberg = 'https://www.bloomberg.co.jp/'\n",
    "html_bloomberg_news = requests.get(URL_bloomberg).text\n",
    "bs = BeautifulSoup(html_bloomberg_news, 'html.parser')\n",
    "source_story = bs.find_all(\"a\",{\"class\":\"story-list-story__info__headline-link\"})\n",
    "source_headline = bs.find_all(\"a\",{\"class\":\"hero-module__headline-link\"})\n",
    "           \n",
    "def pick_up_news(source,key_words):\n",
    "    list_ = []\n",
    "    columns=[\"Title\",\"URL\"]\n",
    "    df = pd.DataFrame(columns=columns)\n",
    "    for tag in source:\n",
    "        for word in key_words:\n",
    "            if word in tag.string:\n",
    "                if tag.string not in list_:  # 重複したtag.stringを削除する\n",
    "                    list_.append(tag.string)\n",
    "                    title = tag.string.strip(\"\\n \"\" \")\n",
    "                    URL = URL_bloomberg + tag.get(\"href\")\n",
    "                    print(title)\n",
    "                    print(URL)\n",
    "                    se = pd.Series([title,URL],columns)\n",
    "                    df = df.append(se,columns)\n",
    "    return df\n",
    "\n",
    "# tag.stringとURLが要素のDataFrameを作る #\n",
    "key_words = [\"株\",\"日経平均\",\"ＥＴＦ\",\"感染\",\"ＴＯＰＩＸ\",\"金融\"]\n",
    "news_headline = pick_up_news(source=source_headline,key_words=key_words)\n",
    "news_story = pick_up_news(source=source_story,key_words=key_words)\n",
    "news_table = news_headline.append(news_story,ignore_index=True) # 二つのsourceに同じ記事がある場合の対処\n"
   ]
  },
  {
   "cell_type": "code",
   "execution_count": null,
   "metadata": {},
   "outputs": [],
   "source": []
  }
 ],
 "metadata": {
  "kernelspec": {
   "display_name": "Python 3",
   "language": "python",
   "name": "python3"
  },
  "language_info": {
   "codemirror_mode": {
    "name": "ipython",
    "version": 3
   },
   "file_extension": ".py",
   "mimetype": "text/x-python",
   "name": "python",
   "nbconvert_exporter": "python",
   "pygments_lexer": "ipython3",
   "version": "3.7.6"
  }
 },
 "nbformat": 4,
 "nbformat_minor": 4
}
