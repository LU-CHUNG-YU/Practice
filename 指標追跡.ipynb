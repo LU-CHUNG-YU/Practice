{
 "cells": [
  {
   "cell_type": "code",
   "execution_count": 1,
   "metadata": {
    "jupyter": {
     "outputs_hidden": false,
     "source_hidden": false
    },
    "nteract": {
     "transient": {
      "deleting": false
     }
    }
   },
   "outputs": [],
   "source": [
    "from bs4 import BeautifulSoup\n",
    "import requests\n",
    "import pandas as pd\n",
    "import numpy as np\n",
    "import datetime\n",
    "import os\n",
    "import matplotlib.pyplot as plt\n",
    "%matplotlib inline"
   ]
  },
  {
   "cell_type": "code",
   "execution_count": 2,
   "metadata": {
    "jupyter": {
     "outputs_hidden": false,
     "source_hidden": false
    },
    "nteract": {
     "transient": {
      "deleting": false
     }
    }
   },
   "outputs": [],
   "source": [
    "### 表の枠を作る ###\n",
    "columns = [\"絶対値\",\"前日比\"]\n",
    "Time = pd.DataFrame([\"-\",\"-\"],columns=[datetime.date.today()],index=columns).T\n",
    "index_table = pd.DataFrame([\"--\",\"--\"],columns=[\"指数\"],index=columns).T\n",
    "future_table = pd.DataFrame([\"--\",\"--\"],columns=[\"先物\"],index=columns).T\n"
   ]
  },
  {
   "cell_type": "code",
   "execution_count": 3,
   "metadata": {
    "jupyter": {
     "outputs_hidden": false,
     "source_hidden": false
    },
    "nteract": {
     "transient": {
      "deleting": false
     }
    }
   },
   "outputs": [
    {
     "data": {
      "text/html": [
       "<div>\n",
       "<style scoped>\n",
       "    .dataframe tbody tr th:only-of-type {\n",
       "        vertical-align: middle;\n",
       "    }\n",
       "\n",
       "    .dataframe tbody tr th {\n",
       "        vertical-align: top;\n",
       "    }\n",
       "\n",
       "    .dataframe thead th {\n",
       "        text-align: right;\n",
       "    }\n",
       "</style>\n",
       "<table border=\"1\" class=\"dataframe\">\n",
       "  <thead>\n",
       "    <tr style=\"text-align: right;\">\n",
       "      <th></th>\n",
       "      <th>絶対値</th>\n",
       "      <th>前日比</th>\n",
       "    </tr>\n",
       "  </thead>\n",
       "  <tbody>\n",
       "    <tr>\n",
       "      <th>2020-05-04</th>\n",
       "      <td>-</td>\n",
       "      <td>-</td>\n",
       "    </tr>\n",
       "    <tr>\n",
       "      <th>指数</th>\n",
       "      <td>--</td>\n",
       "      <td>--</td>\n",
       "    </tr>\n",
       "    <tr>\n",
       "      <th>日経平均</th>\n",
       "      <td>19619.3</td>\n",
       "      <td>-574.34（-2.84%）</td>\n",
       "    </tr>\n",
       "    <tr>\n",
       "      <th>TOPIX</th>\n",
       "      <td>1431.26</td>\n",
       "      <td>-32.77（-2.24%）</td>\n",
       "    </tr>\n",
       "    <tr>\n",
       "      <th>JASDAQ</th>\n",
       "      <td>144.51</td>\n",
       "      <td>-0.85（-0.58%）</td>\n",
       "    </tr>\n",
       "    <tr>\n",
       "      <th>先物</th>\n",
       "      <td>--</td>\n",
       "      <td>--</td>\n",
       "    </tr>\n",
       "    <tr>\n",
       "      <th>日経平均1ヶ月</th>\n",
       "      <td>19630</td>\n",
       "      <td>-430.00（-2.14%）</td>\n",
       "    </tr>\n",
       "    <tr>\n",
       "      <th>TOPIX 1ヶ月</th>\n",
       "      <td>1427.5</td>\n",
       "      <td>-26.50（-1.82%）</td>\n",
       "    </tr>\n",
       "  </tbody>\n",
       "</table>\n",
       "</div>"
      ],
      "text/plain": [
       "                絶対値              前日比\n",
       "2020-05-04        -                -\n",
       "指数               --               --\n",
       "日経平均        19619.3  -574.34（-2.84%）\n",
       "TOPIX       1431.26   -32.77（-2.24%）\n",
       "JASDAQ       144.51    -0.85（-0.58%）\n",
       "先物               --               --\n",
       "日経平均1ヶ月       19630  -430.00（-2.14%）\n",
       "TOPIX 1ヶ月    1427.5   -26.50（-1.82%）"
      ]
     },
     "execution_count": 3,
     "metadata": {},
     "output_type": "execute_result"
    }
   ],
   "source": [
    "#### （最新） ####\n",
    "### 日経平均, TOPIX, JASDAQ ###\n",
    "### 日経平均先物, TOPIX先物 ###\n",
    "yahoo_url = \"https://stocks.finance.yahoo.co.jp/stocks/detail/?code=\"\n",
    "dic_index = {\n",
    "    \"日経平均\":\"998407\",\n",
    "    \"TOPIX\":\"998405\",\n",
    "    \"JASDAQ\":\"23337\",\n",
    "}\n",
    "dic_future = {\n",
    "    \"日経平均1ヶ月\":\"5040469\",\n",
    "    \"TOPIX 1ヶ月\":\"5040468\"\n",
    "}\n",
    "def create_table_latest(dic,base_table):\n",
    "    key_list = list(dic.keys())\n",
    "    for i in range(len(key_list)):\n",
    "        html = requests.get(yahoo_url+dic[key_list[i]]).text\n",
    "        bs = BeautifulSoup(html, 'html.parser')\n",
    "        absolute = bs.find_all(class_=\"stoksPrice\")\n",
    "        index_price = float(absolute[1].text.replace(',',''))\n",
    "\n",
    "        comparison = bs.find_all(class_=\"icoDownRed yjMSt\")\n",
    "        if comparison == ([]):\n",
    "            comparison = bs.find_all(class_=\"icoUpGreen yjMSt\")\n",
    "            if comparison == ([]):\n",
    "                comparison = bs.find_all(class_=\"icoNoChange yjMSt\")\n",
    "        else:\n",
    "            comparison\n",
    "        growth_rate = comparison[0].text\n",
    "\n",
    "        price_and_rate = [index_price,growth_rate]\n",
    "        df = pd.DataFrame(price_and_rate,index=columns,columns=[key_list[i]]).T\n",
    "        base_table = base_table.append(df,ignore_index=False)\n",
    "    return base_table\n",
    "\n",
    "Table_index = create_table_latest(dic=dic_index,base_table=index_table)\n",
    "Table_future = create_table_latest(dic=dic_future,base_table=future_table)\n",
    "Table = Time.append(Table_index,ignore_index=False)\n",
    "Table = Table.append(Table_future,ignore_index=False)\n",
    "Table"
   ]
  },
  {
   "cell_type": "code",
   "execution_count": 4,
   "metadata": {
    "jupyter": {
     "outputs_hidden": false,
     "source_hidden": false
    },
    "nteract": {
     "transient": {
      "deleting": false
     }
    }
   },
   "outputs": [],
   "source": [
    "### csvに出力する ###\n",
    "Table.to_csv(\"datasets/capital_market/latest_index_future_table.csv\",encoding='utf_8_sig')"
   ]
  },
  {
   "cell_type": "code",
   "execution_count": 5,
   "metadata": {
    "jupyter": {
     "outputs_hidden": false,
     "source_hidden": false
    },
    "nteract": {
     "transient": {
      "deleting": false
     }
    }
   },
   "outputs": [
    {
     "name": "stdout",
     "output_type": "stream",
     "text": [
      "               日経平均    TOPIX  JASDAQ\n",
      "2020/05/04  19619.3  1431.26  144.51\n"
     ]
    },
    {
     "data": {
      "text/html": [
       "<div>\n",
       "<style scoped>\n",
       "    .dataframe tbody tr th:only-of-type {\n",
       "        vertical-align: middle;\n",
       "    }\n",
       "\n",
       "    .dataframe tbody tr th {\n",
       "        vertical-align: top;\n",
       "    }\n",
       "\n",
       "    .dataframe thead th {\n",
       "        text-align: right;\n",
       "    }\n",
       "</style>\n",
       "<table border=\"1\" class=\"dataframe\">\n",
       "  <thead>\n",
       "    <tr style=\"text-align: right;\">\n",
       "      <th></th>\n",
       "      <th>日経平均</th>\n",
       "      <th>TOPIX</th>\n",
       "      <th>JASDAQ</th>\n",
       "    </tr>\n",
       "  </thead>\n",
       "  <tbody>\n",
       "    <tr>\n",
       "      <th>2020/03/18</th>\n",
       "      <td>16726.5</td>\n",
       "      <td>1270.84</td>\n",
       "      <td>125.88</td>\n",
       "    </tr>\n",
       "    <tr>\n",
       "      <th>2020/03/19</th>\n",
       "      <td>16552.8</td>\n",
       "      <td>1283.22</td>\n",
       "      <td>123.97</td>\n",
       "    </tr>\n",
       "    <tr>\n",
       "      <th>2020/03/23</th>\n",
       "      <td>16887.8</td>\n",
       "      <td>1292.01</td>\n",
       "      <td>125.2</td>\n",
       "    </tr>\n",
       "    <tr>\n",
       "      <th>2020/03/24</th>\n",
       "      <td>18092.3</td>\n",
       "      <td>1333.1</td>\n",
       "      <td>129.7</td>\n",
       "    </tr>\n",
       "    <tr>\n",
       "      <th>2020/03/25</th>\n",
       "      <td>19546.6</td>\n",
       "      <td>1424.62</td>\n",
       "      <td>135.81</td>\n",
       "    </tr>\n",
       "    <tr>\n",
       "      <th>2020/03/26</th>\n",
       "      <td>18664.6</td>\n",
       "      <td>1399.32</td>\n",
       "      <td>133.47</td>\n",
       "    </tr>\n",
       "    <tr>\n",
       "      <th>2020/03/27</th>\n",
       "      <td>19389.4</td>\n",
       "      <td>1459.49</td>\n",
       "      <td>135.45</td>\n",
       "    </tr>\n",
       "    <tr>\n",
       "      <th>2020/03/30</th>\n",
       "      <td>19085</td>\n",
       "      <td>1435.54</td>\n",
       "      <td>133.24</td>\n",
       "    </tr>\n",
       "    <tr>\n",
       "      <th>2020/03/31</th>\n",
       "      <td>18917</td>\n",
       "      <td>1403.04</td>\n",
       "      <td>133.43</td>\n",
       "    </tr>\n",
       "    <tr>\n",
       "      <th>2020/04/01</th>\n",
       "      <td>18065.4</td>\n",
       "      <td>1351.08</td>\n",
       "      <td>129.87</td>\n",
       "    </tr>\n",
       "    <tr>\n",
       "      <th>2020/04/02</th>\n",
       "      <td>17818.7</td>\n",
       "      <td>1329.87</td>\n",
       "      <td>128.75</td>\n",
       "    </tr>\n",
       "    <tr>\n",
       "      <th>2020/04/03</th>\n",
       "      <td>17820.2</td>\n",
       "      <td>1325.13</td>\n",
       "      <td>126.9</td>\n",
       "    </tr>\n",
       "    <tr>\n",
       "      <th>2020/04/06</th>\n",
       "      <td>18576.3</td>\n",
       "      <td>1376.3</td>\n",
       "      <td>129.36</td>\n",
       "    </tr>\n",
       "    <tr>\n",
       "      <th>2020/04/07</th>\n",
       "      <td>18950.2</td>\n",
       "      <td>1403.21</td>\n",
       "      <td>132.84</td>\n",
       "    </tr>\n",
       "    <tr>\n",
       "      <th>2020/04/08</th>\n",
       "      <td>19353.2</td>\n",
       "      <td>1425.47</td>\n",
       "      <td>135.61</td>\n",
       "    </tr>\n",
       "    <tr>\n",
       "      <th>2020/04/09</th>\n",
       "      <td>19345.8</td>\n",
       "      <td>1416.98</td>\n",
       "      <td>137.39</td>\n",
       "    </tr>\n",
       "    <tr>\n",
       "      <th>2020/04/10</th>\n",
       "      <td>19498.5</td>\n",
       "      <td>1430.04</td>\n",
       "      <td>137.4</td>\n",
       "    </tr>\n",
       "    <tr>\n",
       "      <th>2020/04/13</th>\n",
       "      <td>19043.4</td>\n",
       "      <td>1405.91</td>\n",
       "      <td>136.72</td>\n",
       "    </tr>\n",
       "    <tr>\n",
       "      <th>2020/04/14</th>\n",
       "      <td>19638.8</td>\n",
       "      <td>1433.51</td>\n",
       "      <td>139.67</td>\n",
       "    </tr>\n",
       "    <tr>\n",
       "      <th>2020/04/15</th>\n",
       "      <td>19550.1</td>\n",
       "      <td>1434.07</td>\n",
       "      <td>140.41</td>\n",
       "    </tr>\n",
       "    <tr>\n",
       "      <th>2020/04/16</th>\n",
       "      <td>19290.2</td>\n",
       "      <td>1422.24</td>\n",
       "      <td>140.73</td>\n",
       "    </tr>\n",
       "    <tr>\n",
       "      <th>2020/04/17</th>\n",
       "      <td>19897.3</td>\n",
       "      <td>1442.54</td>\n",
       "      <td>141.71</td>\n",
       "    </tr>\n",
       "    <tr>\n",
       "      <th>2020/04/20</th>\n",
       "      <td>19669.1</td>\n",
       "      <td>1432.41</td>\n",
       "      <td>142.46</td>\n",
       "    </tr>\n",
       "    <tr>\n",
       "      <th>2020/04/21</th>\n",
       "      <td>19280.8</td>\n",
       "      <td>1415.89</td>\n",
       "      <td>139.74</td>\n",
       "    </tr>\n",
       "    <tr>\n",
       "      <th>2020/04/22</th>\n",
       "      <td>19138</td>\n",
       "      <td>1406.9</td>\n",
       "      <td>138.44</td>\n",
       "    </tr>\n",
       "    <tr>\n",
       "      <th>2020/04/23</th>\n",
       "      <td>19429.4</td>\n",
       "      <td>1425.98</td>\n",
       "      <td>140.54</td>\n",
       "    </tr>\n",
       "    <tr>\n",
       "      <th>2020/04/24</th>\n",
       "      <td>19262</td>\n",
       "      <td>1421.29</td>\n",
       "      <td>140.27</td>\n",
       "    </tr>\n",
       "    <tr>\n",
       "      <th>2020/04/27</th>\n",
       "      <td>19783.2</td>\n",
       "      <td>1447.25</td>\n",
       "      <td>142.51</td>\n",
       "    </tr>\n",
       "    <tr>\n",
       "      <th>2020/04/28</th>\n",
       "      <td>19771.2</td>\n",
       "      <td>1449.15</td>\n",
       "      <td>143.37</td>\n",
       "    </tr>\n",
       "    <tr>\n",
       "      <th>2020/04/30</th>\n",
       "      <td>20193.7</td>\n",
       "      <td>1464.03</td>\n",
       "      <td>145.36</td>\n",
       "    </tr>\n",
       "    <tr>\n",
       "      <th>2020/05/01</th>\n",
       "      <td>19619.3</td>\n",
       "      <td>1431.26</td>\n",
       "      <td>144.51</td>\n",
       "    </tr>\n",
       "    <tr>\n",
       "      <th>2020/05/04</th>\n",
       "      <td>19619.3</td>\n",
       "      <td>1431.26</td>\n",
       "      <td>144.51</td>\n",
       "    </tr>\n",
       "  </tbody>\n",
       "</table>\n",
       "</div>"
      ],
      "text/plain": [
       "               日経平均    TOPIX  JASDAQ\n",
       "2020/03/18  16726.5  1270.84  125.88\n",
       "2020/03/19  16552.8  1283.22  123.97\n",
       "2020/03/23  16887.8  1292.01   125.2\n",
       "2020/03/24  18092.3   1333.1   129.7\n",
       "2020/03/25  19546.6  1424.62  135.81\n",
       "2020/03/26  18664.6  1399.32  133.47\n",
       "2020/03/27  19389.4  1459.49  135.45\n",
       "2020/03/30    19085  1435.54  133.24\n",
       "2020/03/31    18917  1403.04  133.43\n",
       "2020/04/01  18065.4  1351.08  129.87\n",
       "2020/04/02  17818.7  1329.87  128.75\n",
       "2020/04/03  17820.2  1325.13   126.9\n",
       "2020/04/06  18576.3   1376.3  129.36\n",
       "2020/04/07  18950.2  1403.21  132.84\n",
       "2020/04/08  19353.2  1425.47  135.61\n",
       "2020/04/09  19345.8  1416.98  137.39\n",
       "2020/04/10  19498.5  1430.04   137.4\n",
       "2020/04/13  19043.4  1405.91  136.72\n",
       "2020/04/14  19638.8  1433.51  139.67\n",
       "2020/04/15  19550.1  1434.07  140.41\n",
       "2020/04/16  19290.2  1422.24  140.73\n",
       "2020/04/17  19897.3  1442.54  141.71\n",
       "2020/04/20  19669.1  1432.41  142.46\n",
       "2020/04/21  19280.8  1415.89  139.74\n",
       "2020/04/22    19138   1406.9  138.44\n",
       "2020/04/23  19429.4  1425.98  140.54\n",
       "2020/04/24    19262  1421.29  140.27\n",
       "2020/04/27  19783.2  1447.25  142.51\n",
       "2020/04/28  19771.2  1449.15  143.37\n",
       "2020/04/30  20193.7  1464.03  145.36\n",
       "2020/05/01  19619.3  1431.26  144.51\n",
       "2020/05/04  19619.3  1431.26  144.51"
      ]
     },
     "execution_count": 5,
     "metadata": {},
     "output_type": "execute_result"
    }
   ],
   "source": [
    "#### （歴史） ####\n",
    "### 日経平均, TOPIX, JASDAQ ###\n",
    "latest_data = pd.DataFrame(Table.values[2:5,0],columns=[Table.index[0].strftime(\"%Y/%m/%d\")],index=list(dic_index.keys())).T\n",
    "print(latest_data) ## （デフォルト用）：latest_data.to_csv(\"datasets/historical_table.csv\",encoding='utf_8_sig')\n",
    "\n",
    "csv_path = os.path.join(\"datasets\",\"capital_market\",\"Historical_Data\",\"historical_table.csv\")\n",
    "original_table = pd.read_csv(csv_path,index_col=0)\n",
    "historical_table = original_table.append(latest_data,ignore_index=False)\n",
    "historical_table.to_csv(\"datasets/capital_market/Historical_Data/historical_table.csv\",encoding='utf_8_sig')\n",
    "historical_table\n"
   ]
  },
  {
   "cell_type": "code",
   "execution_count": 6,
   "metadata": {
    "jupyter": {
     "outputs_hidden": false,
     "source_hidden": false
    },
    "nteract": {
     "transient": {
      "deleting": false
     }
    }
   },
   "outputs": [],
   "source": [
    "# 図を調整する前に：historical_table = pd.read_csv(csv_path,index_col=0)\n",
    "#                historical_table"
   ]
  },
  {
   "cell_type": "code",
   "execution_count": 7,
   "metadata": {
    "jupyter": {
     "outputs_hidden": false,
     "source_hidden": false
    },
    "nteract": {
     "transient": {
      "deleting": false
     }
    }
   },
   "outputs": [],
   "source": [
    "date_index = np.linspace(0,len(historical_table.index)-1,10).astype(\"int\")\n",
    "selected_date = historical_table.index[date_index]\n",
    "selected_date_ls = list(selected_date)"
   ]
  },
  {
   "cell_type": "code",
   "execution_count": 8,
   "metadata": {
    "jupyter": {
     "outputs_hidden": false,
     "source_hidden": false
    },
    "nteract": {
     "transient": {
      "deleting": false
     }
    }
   },
   "outputs": [
    {
     "data": {
      "image/png": "[encoded data removed]",
      "text/plain": [
       "<Figure size 720x504 with 1 Axes>"
      ]
     },
     "metadata": {
      "needs_background": "light"
     },
     "output_type": "display_data"
    },
    {
     "data": {
      "image/png": "[encoded data removed]",
      "text/plain": [
       "<Figure size 720x504 with 1 Axes>"
      ]
     },
     "metadata": {
      "needs_background": "light"
     },
     "output_type": "display_data"
    },
    {
     "data": {
      "image/png": "[encoded data removed]",
      "text/plain": [
       "<Figure size 720x504 with 1 Axes>"
      ]
     },
     "metadata": {
      "needs_background": "light"
     },
     "output_type": "display_data"
    }
   ],
   "source": [
    "def plot_and_save_historical_index(target,color,title):\n",
    "    figure_path = os.path.join(\"datasets\",\"capital_market\",\"Historical_Data\",title+\".png\")\n",
    "    plt.figure(figsize=(10,7))\n",
    "    plt.plot(historical_table.index,historical_table.loc[:,target].values,color)\n",
    "    plt.xlabel(\"Date\",fontsize=15)\n",
    "    plt.ylabel(\"Index Value\",fontsize=15)\n",
    "    plt.xticks(selected_date_ls,rotation=30,fontsize=10)\n",
    "    plt.title(title,fontsize=18)\n",
    "    plt.savefig(figure_path)\n",
    "    plt.show()\n",
    "plot_and_save_historical_index(target=\"日経平均\",color=\"r\",title=\"Nikkei Average\")\n",
    "plot_and_save_historical_index(target=\"TOPIX\",color=\"b\",title=\"TOPIX\")\n",
    "plot_and_save_historical_index(target=\"JASDAQ\",color=\"k\",title=\"JASDAQ\")"
   ]
  },
  {
   "cell_type": "code",
   "execution_count": 11,
   "metadata": {
    "jupyter": {
     "outputs_hidden": false,
     "source_hidden": false
    },
    "nteract": {
     "transient": {
      "deleting": false
     }
    }
   },
   "outputs": [],
   "source": [
    "# 最新日付のデータを削除する #\n",
    "#historical_table = historical_table.drop(index=Table.index[0].strftime(\"%Y/%m/%d\"),axis=0)\n",
    "#historical_table.to_csv(\"datasets/capital_market/Historical_Data/historical_table.csv\",encoding='utf_8_sig')"
   ]
  }
 ],
 "metadata": {
  "kernelspec": {
   "display_name": "Python 3",
   "language": "python",
   "name": "python3"
  },
  "language_info": {
   "codemirror_mode": {
    "name": "ipython",
    "version": 3
   },
   "file_extension": ".py",
   "mimetype": "text/x-python",
   "name": "python",
   "nbconvert_exporter": "python",
   "pygments_lexer": "ipython3",
   "version": "3.7.6"
  }
 },
 "nbformat": 4,
 "nbformat_minor": 1
}
