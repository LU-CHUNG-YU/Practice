{
 "cells": [
  {
   "cell_type": "code",
   "execution_count": null,
   "metadata": {
    "jupyter": {
     "outputs_hidden": false,
     "source_hidden": false
    },
    "nteract": {
     "transient": {
      "deleting": false
     }
    }
   },
   "outputs": [],
   "source": [
    "from bs4 import BeautifulSoup\n",
    "import requests\n",
    "import pandas as pd\n",
    "import numpy as np\n",
    "import datetime\n",
    "import os\n",
    "import matplotlib.pyplot as plt\n",
    "%matplotlib inline"
   ]
  },
  {
   "cell_type": "code",
   "execution_count": null,
   "metadata": {
    "jupyter": {
     "outputs_hidden": false,
     "source_hidden": false
    },
    "nteract": {
     "transient": {
      "deleting": false
     }
    }
   },
   "outputs": [],
   "source": [
    "### 表の枠を作る ###\n",
    "columns = [\"絶対値\",\"前日比\"]\n",
    "Time = pd.DataFrame([\"-\",\"-\"],columns=[datetime.date.today()],index=columns).T\n",
    "index_table = pd.DataFrame([\"--\",\"--\"],columns=[\"指数\"],index=columns).T\n",
    "future_table = pd.DataFrame([\"--\",\"--\"],columns=[\"先物\"],index=columns).T\n"
   ]
  },
  {
   "cell_type": "code",
   "execution_count": null,
   "metadata": {
    "jupyter": {
     "outputs_hidden": false,
     "source_hidden": false
    },
    "nteract": {
     "transient": {
      "deleting": false
     }
    }
   },
   "outputs": [],
   "source": [
    "#### （最新） ####\n",
    "### 日経平均, TOPIX, JASDAQ ###\n",
    "### 日経平均先物, TOPIX先物 ###\n",
    "yahoo_url = \"https://stocks.finance.yahoo.co.jp/stocks/detail/?code=\"\n",
    "dic_index = {\n",
    "    \"日経平均\":\"998407\",\n",
    "    \"TOPIX\":\"998405\",\n",
    "    \"JASDAQ\":\"23337\",\n",
    "}\n",
    "dic_future = {\n",
    "    \"日経平均1ヶ月\":\"5040469\",\n",
    "    \"TOPIX 1ヶ月\":\"5040468\"\n",
    "}\n",
    "def create_table_latest(dic,base_table):\n",
    "    key_list = list(dic.keys())\n",
    "    for i in range(len(key_list)):\n",
    "        html = requests.get(yahoo_url+dic[key_list[i]]).text\n",
    "        bs = BeautifulSoup(html, 'html.parser')\n",
    "        absolute = bs.find_all(class_=\"stoksPrice\")\n",
    "        index_price = float(absolute[1].text.replace(',',''))\n",
    "\n",
    "        comparison = bs.find_all(class_=\"icoDownRed yjMSt\")\n",
    "        if comparison == ([]):\n",
    "            comparison = bs.find_all(class_=\"icoUpGreen yjMSt\")\n",
    "            if comparison == ([]):\n",
    "                comparison = bs.find_all(class_=\"icoNoChange yjMSt\")\n",
    "        else:\n",
    "            comparison\n",
    "        growth_rate = comparison[0].text\n",
    "\n",
    "        price_and_rate = [index_price,growth_rate]\n",
    "        df = pd.DataFrame(price_and_rate,index=columns,columns=[key_list[i]]).T\n",
    "        base_table = base_table.append(df,ignore_index=False)\n",
    "    return base_table\n",
    "\n",
    "Table_index = create_table_latest(dic=dic_index,base_table=index_table)\n",
    "Table_future = create_table_latest(dic=dic_future,base_table=future_table)\n",
    "Table = Time.append(Table_index,ignore_index=False)\n",
    "Table = Table.append(Table_future,ignore_index=False)\n",
    "Table"
   ]
  },
  {
   "cell_type": "code",
   "execution_count": null,
   "metadata": {
    "jupyter": {
     "outputs_hidden": false,
     "source_hidden": false
    },
    "nteract": {
     "transient": {
      "deleting": false
     }
    }
   },
   "outputs": [],
   "source": [
    "### csvに出力する ###\n",
    "Table.to_csv(\"datasets/capital_market/latest_index_future_table.csv\",encoding='utf_8_sig')"
   ]
  },
  {
   "cell_type": "code",
   "execution_count": null,
   "metadata": {
    "jupyter": {
     "outputs_hidden": false,
     "source_hidden": false
    },
    "nteract": {
     "transient": {
      "deleting": false
     }
    }
   },
   "outputs": [],
   "source": [
    "#### （歴史） ####\n",
    "### 日経平均, TOPIX, JASDAQ ###\n",
    "latest_data = pd.DataFrame(Table.values[2:5,0],columns=[Table.index[0].strftime(\"%Y/%m/%d\")],index=list(dic_index.keys())).T\n",
    "print(latest_data)  ## （デフォルト用）：latest_data.to_csv(\"datasets/historical_table.csv\",encoding='utf_8_sig')\n",
    "\n",
    "csv_path = os.path.join(\"datasets\",\"capital_market\",\"Historical_Data\",\"historical_table.csv\")\n",
    "original_table = pd.read_csv(csv_path,index_col=0)\n",
    "historical_table = original_table.append(latest_data,ignore_index=False)\n",
    "historical_table.to_csv(\"datasets/capital_market/Historical_Data/historical_table.csv\",encoding='utf_8_sig')\n",
    "historical_table\n"
   ]
  },
  {
   "cell_type": "code",
   "execution_count": null,
   "metadata": {
    "jupyter": {
     "outputs_hidden": false,
     "source_hidden": false
    },
    "nteract": {
     "transient": {
      "deleting": false
     }
    }
   },
   "outputs": [],
   "source": [
    "# 図を調整する前に：historical_table = pd.read_csv(csv_path,index_col=0)\n",
    "#                historical_table"
   ]
  },
  {
   "cell_type": "code",
   "execution_count": null,
   "metadata": {
    "jupyter": {
     "outputs_hidden": false,
     "source_hidden": false
    },
    "nteract": {
     "transient": {
      "deleting": false
     }
    }
   },
   "outputs": [],
   "source": [
    "date_index = np.linspace(0,len(historical_table.index)-1,10).astype(\"int\")\n",
    "selected_date = historical_table.index[date_index]\n",
    "selected_date_ls = list(selected_date)"
   ]
  },
  {
   "cell_type": "code",
   "execution_count": null,
   "metadata": {
    "jupyter": {
     "outputs_hidden": false,
     "source_hidden": false
    },
    "nteract": {
     "transient": {
      "deleting": false
     }
    }
   },
   "outputs": [],
   "source": [
    "def plot_and_save_historical_index(target,color,title):\n",
    "    figure_path = os.path.join(\"datasets\",\"capital_market\",\"Historical_Data\",title+\".png\")\n",
    "    plt.figure(figsize=(10,7))\n",
    "    plt.plot(historical_table.index,historical_table.loc[:,target].values,color)\n",
    "    plt.xlabel(\"Date\",fontsize=15)\n",
    "    plt.ylabel(\"Index Value\",fontsize=15)\n",
    "    plt.xticks(selected_date_ls,rotation=30,fontsize=10)\n",
    "    plt.title(title,fontsize=18)\n",
    "    plt.savefig(figure_path)\n",
    "    plt.show()\n",
    "plot_and_save_historical_index(target=\"日経平均\",color=\"r\",title=\"Nikkei Average\")\n",
    "plot_and_save_historical_index(target=\"TOPIX\",color=\"b\",title=\"TOPIX\")\n",
    "plot_and_save_historical_index(target=\"JASDAQ\",color=\"k\",title=\"JASDAQ\")"
   ]
  },
  {
   "cell_type": "code",
   "execution_count": null,
   "metadata": {
    "jupyter": {
     "outputs_hidden": false,
     "source_hidden": false
    },
    "nteract": {
     "transient": {
      "deleting": false
     }
    }
   },
   "outputs": [],
   "source": [
    "# 最新日付のデータを削除する #\n",
    "# historical_table = historical_table.drop(index=Table.index[0].strftime(\"%Y/%m/%d\"),axis=0)\n",
    "# historical_table.to_csv(\"datasets/capital_market/Historical_Data/historical_table.csv\",encoding='utf_8_sig')"
   ]
  },
  {
   "cell_type": "code",
   "execution_count": null,
   "metadata": {
    "jupyter": {
     "outputs_hidden": false,
     "source_hidden": false
    },
    "nteract": {
     "transient": {
      "deleting": false
     }
    }
   },
   "outputs": [],
   "source": [
    "\n"
   ]
  }
 ],
 "metadata": {
  "kernelspec": {
   "display_name": "Python 3",
   "language": "python",
   "name": "python3"
  },
  "language_info": {
   "codemirror_mode": {
    "name": "ipython",
    "version": 3
   },
   "file_extension": ".py",
   "mimetype": "text/x-python",
   "name": "python",
   "nbconvert_exporter": "python",
   "pygments_lexer": "ipython3",
   "version": "3.7.6"
  }
 },
 "nbformat": 4,
 "nbformat_minor": 1
}
